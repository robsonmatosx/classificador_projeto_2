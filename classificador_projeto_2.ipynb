{
  "nbformat": 4,
  "nbformat_minor": 0,
  "metadata": {
    "file_extension": ".py",
    "kernelspec": {
      "display_name": "Python 3",
      "language": "python",
      "name": "python3"
    },
    "language_info": {
      "codemirror_mode": {
        "name": "ipython",
        "version": 3
      },
      "file_extension": ".py",
      "mimetype": "text/x-python",
      "name": "python",
      "nbconvert_exporter": "python",
      "pygments_lexer": "ipython3",
      "version": "3.7.3"
    },
    "mimetype": "text/x-python",
    "name": "python",
    "npconvert_exporter": "python",
    "pygments_lexer": "ipython3",
    "version": 3,
    "colab": {
      "name": "classificador_projeto_2",
      "provenance": [],
      "collapsed_sections": []
    }
  },
  "cells": [
    {
      "cell_type": "markdown",
      "metadata": {
        "id": "2cexNfEsm4zZ",
        "colab_type": "text"
      },
      "source": [
        "# Projeto #2 - Classificador supervisionado\n",
        "\n",
        "Antes de começar, leia as [Instruções](https://github.com/thvmm/pos-ds-ia/tree/master/projeto_2#instru%C3%A7%C3%B5es) e os [Critérios de Avaliação](https://github.com/thvmm/pos-ds-ia/tree/master/projeto_2#crit%C3%A9rios-de-avalia%C3%A7%C3%A3o)\n"
      ]
    },
    {
      "cell_type": "code",
      "metadata": {
        "id": "Xvp2a7WDohKo",
        "colab_type": "code",
        "outputId": "34da304e-0770-4961-8307-6053f1adaf22",
        "colab": {
          "base_uri": "https://localhost:8080/",
          "height": 122
        }
      },
      "source": [
        "from google.colab import drive\n",
        "drive.mount('/content/drive')"
      ],
      "execution_count": 0,
      "outputs": [
        {
          "output_type": "stream",
          "text": [
            "Go to this URL in a browser: https://accounts.google.com/o/oauth2/auth?client_id=947318989803-6bn6qk8qdgf4n4g3pfee6491hc0brc4i.apps.googleusercontent.com&redirect_uri=urn%3aietf%3awg%3aoauth%3a2.0%3aoob&response_type=code&scope=email%20https%3a%2f%2fwww.googleapis.com%2fauth%2fdocs.test%20https%3a%2f%2fwww.googleapis.com%2fauth%2fdrive%20https%3a%2f%2fwww.googleapis.com%2fauth%2fdrive.photos.readonly%20https%3a%2f%2fwww.googleapis.com%2fauth%2fpeopleapi.readonly\n",
            "\n",
            "Enter your authorization code:\n",
            "··········\n",
            "Mounted at /content/drive\n"
          ],
          "name": "stdout"
        }
      ]
    },
    {
      "cell_type": "markdown",
      "metadata": {
        "id": "ZswwipICm4zc",
        "colab_type": "text"
      },
      "source": [
        "### 1) Qual a base escolhida?"
      ]
    },
    {
      "cell_type": "markdown",
      "metadata": {
        "id": "F0blndKgm4zd",
        "colab_type": "text"
      },
      "source": [
        "*Indique a base escolhida.*"
      ]
    },
    {
      "cell_type": "markdown",
      "metadata": {
        "id": "VzrhGf8ZrSIn",
        "colab_type": "text"
      },
      "source": [
        "base escolhida: Forest covertypes"
      ]
    },
    {
      "cell_type": "markdown",
      "metadata": {
        "id": "f69IQMyIm4ze",
        "colab_type": "text"
      },
      "source": [
        "### 2) **(10%)** Pré-processamento: entendimento do conjunto de dados\n",
        "- Quais são minhas features?\n",
        "- Quais são minhas classes?\n",
        "- Como estão distribuidas minhas classes?\n",
        "- Checagem se os valores estão dentro de um limite permitido ou razoável.\n",
        "- Tratamento de valores ausentes por eliminação ou substituição.\n",
        "- Conversão do tipo de dados.\n"
      ]
    },
    {
      "cell_type": "code",
      "metadata": {
        "id": "3Bs9pf86m4zg",
        "colab_type": "code",
        "colab": {}
      },
      "source": [
        "# Implemente sua análise aqui. Use mais blocos se achar que ficará mais organizado."
      ],
      "execution_count": 0,
      "outputs": []
    },
    {
      "cell_type": "code",
      "metadata": {
        "id": "39YEDaeWrZRx",
        "colab_type": "code",
        "outputId": "9454726d-3524-457a-f240-98f668b744d8",
        "colab": {
          "base_uri": "https://localhost:8080/",
          "height": 35
        }
      },
      "source": [
        "import numpy as np\n",
        "import pandas as pd\n",
        "import matplotlib.pyplot as plt\n",
        "\n",
        "\n",
        "\n",
        "from sklearn import model_selection\n",
        "from sklearn.datasets import fetch_covtype\n",
        "from sklearn.utils import check_array\n",
        "from sklearn import svm\n",
        "import seaborn as sns\n",
        "\n",
        "\n",
        "print(\"Loading dataset...\")\n",
        "data=pd.read_csv('/content/drive/My Drive/covtype.csv')\n",
        "\n",
        "# dividir a base em treino e teste \n",
        "# X_train, X_test, y_train, y_test = model_selection.train_test_split(covtype_db.data, covtype_db.target, test_size=0.3, random_state=0)\n",
        "\n",
        "# # X_train.shape, y_train.shape\n",
        "\n",
        "# # X_test.shape, y_test.shape\n",
        "\n",
        "# clf = svm.SVC(kernel='linear', C=1).fit(X_train, y_train)\n",
        "\n",
        "# clf.score(X_test, y_test)     \n",
        "# # X = check_array(data['data'], dtype=np.float32, order='C')\n",
        "# # y = (data['target'] != 1).astype(np.int)"
      ],
      "execution_count": 54,
      "outputs": [
        {
          "output_type": "stream",
          "text": [
            "Loading dataset...\n"
          ],
          "name": "stdout"
        }
      ]
    },
    {
      "cell_type": "code",
      "metadata": {
        "id": "pCn-dh6iZbsS",
        "colab_type": "code",
        "outputId": "4b7f2b6b-1e87-4964-e9ce-8c2526fff465",
        "colab": {
          "base_uri": "https://localhost:8080/",
          "height": 71
        }
      },
      "source": [
        "print('Data Dimension:')\n",
        "print('Number of Records:', data.shape[0])\n",
        "print('Number of Features:', data.shape[1])"
      ],
      "execution_count": 55,
      "outputs": [
        {
          "output_type": "stream",
          "text": [
            "Data Dimension:\n",
            "Number of Records: 581012\n",
            "Number of Features: 55\n"
          ],
          "name": "stdout"
        }
      ]
    },
    {
      "cell_type": "code",
      "metadata": {
        "id": "8wlYfjcMZfsN",
        "colab_type": "code",
        "outputId": "53671b94-bd4d-46ae-de1f-03d7dbde8821",
        "colab": {
          "base_uri": "https://localhost:8080/",
          "height": 323
        }
      },
      "source": [
        "print('Nomes das Features')\n",
        "print(data.columns)"
      ],
      "execution_count": 56,
      "outputs": [
        {
          "output_type": "stream",
          "text": [
            "Nomes das Features\n",
            "Index(['Elevation', 'Aspect', 'Slope', 'Horizontal_Distance_To_Hydrology',\n",
            "       'Vertical_Distance_To_Hydrology', 'Horizontal_Distance_To_Roadways',\n",
            "       'Hillshade_9am', 'Hillshade_Noon', 'Hillshade_3pm',\n",
            "       'Horizontal_Distance_To_Fire_Points', 'Wilderness_Area1',\n",
            "       'Wilderness_Area2', 'Wilderness_Area3', 'Wilderness_Area4',\n",
            "       'Soil_Type1', 'Soil_Type2', 'Soil_Type3', 'Soil_Type4', 'Soil_Type5',\n",
            "       'Soil_Type6', 'Soil_Type7', 'Soil_Type8', 'Soil_Type9', 'Soil_Type10',\n",
            "       'Soil_Type11', 'Soil_Type12', 'Soil_Type13', 'Soil_Type14',\n",
            "       'Soil_Type15', 'Soil_Type16', 'Soil_Type17', 'Soil_Type18',\n",
            "       'Soil_Type19', 'Soil_Type20', 'Soil_Type21', 'Soil_Type22',\n",
            "       'Soil_Type23', 'Soil_Type24', 'Soil_Type25', 'Soil_Type26',\n",
            "       'Soil_Type27', 'Soil_Type28', 'Soil_Type29', 'Soil_Type30',\n",
            "       'Soil_Type31', 'Soil_Type32', 'Soil_Type33', 'Soil_Type34',\n",
            "       'Soil_Type35', 'Soil_Type36', 'Soil_Type37', 'Soil_Type38',\n",
            "       'Soil_Type39', 'Soil_Type40', 'Cover_Type'],\n",
            "      dtype='object')\n"
          ],
          "name": "stdout"
        }
      ]
    },
    {
      "cell_type": "code",
      "metadata": {
        "id": "IKssnp1vZy93",
        "colab_type": "code",
        "outputId": "572471ab-4c6a-4faa-ad55-ee6be6cd88a0",
        "colab": {
          "base_uri": "https://localhost:8080/",
          "height": 1000
        }
      },
      "source": [
        "#Verificando valores ausentes e nulos\n",
        "print (data.isnull().sum())\n"
      ],
      "execution_count": 0,
      "outputs": [
        {
          "output_type": "stream",
          "text": [
            "Elevation                             0\n",
            "Aspect                                0\n",
            "Slope                                 0\n",
            "Horizontal_Distance_To_Hydrology      0\n",
            "Vertical_Distance_To_Hydrology        0\n",
            "Horizontal_Distance_To_Roadways       0\n",
            "Hillshade_9am                         0\n",
            "Hillshade_Noon                        0\n",
            "Hillshade_3pm                         0\n",
            "Horizontal_Distance_To_Fire_Points    0\n",
            "Wilderness_Area1                      0\n",
            "Wilderness_Area2                      0\n",
            "Wilderness_Area3                      0\n",
            "Wilderness_Area4                      0\n",
            "Soil_Type1                            0\n",
            "Soil_Type2                            0\n",
            "Soil_Type3                            0\n",
            "Soil_Type4                            0\n",
            "Soil_Type5                            0\n",
            "Soil_Type6                            0\n",
            "Soil_Type7                            0\n",
            "Soil_Type8                            0\n",
            "Soil_Type9                            0\n",
            "Soil_Type10                           0\n",
            "Soil_Type11                           0\n",
            "Soil_Type12                           0\n",
            "Soil_Type13                           0\n",
            "Soil_Type14                           0\n",
            "Soil_Type15                           0\n",
            "Soil_Type16                           0\n",
            "Soil_Type17                           0\n",
            "Soil_Type18                           0\n",
            "Soil_Type19                           0\n",
            "Soil_Type20                           0\n",
            "Soil_Type21                           0\n",
            "Soil_Type22                           0\n",
            "Soil_Type23                           0\n",
            "Soil_Type24                           0\n",
            "Soil_Type25                           0\n",
            "Soil_Type26                           0\n",
            "Soil_Type27                           0\n",
            "Soil_Type28                           0\n",
            "Soil_Type29                           0\n",
            "Soil_Type30                           0\n",
            "Soil_Type31                           0\n",
            "Soil_Type32                           0\n",
            "Soil_Type33                           0\n",
            "Soil_Type34                           0\n",
            "Soil_Type35                           0\n",
            "Soil_Type36                           0\n",
            "Soil_Type37                           0\n",
            "Soil_Type38                           0\n",
            "Soil_Type39                           0\n",
            "Soil_Type40                           0\n",
            "Cover_Type                            0\n",
            "dtype: int64\n"
          ],
          "name": "stdout"
        }
      ]
    },
    {
      "cell_type": "code",
      "metadata": {
        "id": "E3WW7smtZ61W",
        "colab_type": "code",
        "outputId": "2ab18cdc-e8a1-42c3-c282-8f7dce7c00a9",
        "colab": {
          "base_uri": "https://localhost:8080/",
          "height": 666
        }
      },
      "source": [
        "# verificando assimetria  para eventuais correções\n",
        "skew=data.skew()\n",
        "skew_df=pd.DataFrame(skew,index=None,columns=['Skewness'])\n",
        "plt.figure(figsize=(15,7))\n",
        "sns.barplot(x=skew_df.index,y='Skewness',data=skew_df)\n",
        "plt.xticks(rotation=90)"
      ],
      "execution_count": 57,
      "outputs": [
        {
          "output_type": "execute_result",
          "data": {
            "text/plain": [
              "(array([ 0,  1,  2,  3,  4,  5,  6,  7,  8,  9, 10, 11, 12, 13, 14, 15, 16,\n",
              "        17, 18, 19, 20, 21, 22, 23, 24, 25, 26, 27, 28, 29, 30, 31, 32, 33,\n",
              "        34, 35, 36, 37, 38, 39, 40, 41, 42, 43, 44, 45, 46, 47, 48, 49, 50,\n",
              "        51, 52, 53, 54]), <a list of 55 Text xticklabel objects>)"
            ]
          },
          "metadata": {
            "tags": []
          },
          "execution_count": 57
        },
        {
          "output_type": "display_data",
          "data": {
            "image/png": "[encoded data removed]",
            "text/plain": [
              "<Figure size 1080x504 with 1 Axes>"
            ]
          },
          "metadata": {
            "tags": []
          }
        }
      ]
    },
    {
      "cell_type": "code",
      "metadata": {
        "id": "pMqFNxFqcQZ5",
        "colab_type": "code",
        "outputId": "b57a8766-1c07-4384-9d8c-ce3b6b93f141",
        "colab": {
          "base_uri": "https://localhost:8080/",
          "height": 551
        }
      },
      "source": [
        "# avaliando as distribuições das classes classes\n",
        "class_dist=data.groupby('Cover_Type').size()\n",
        "class_label=pd.DataFrame(class_dist,columns=['Size'])\n",
        "plt.figure(figsize=(8,6))\n",
        "sns.barplot(x=class_label.index,y='Size',data=class_label)\n",
        "\n",
        "#avaliando o percentual de distribuição das classes\n",
        "data.groupby('Cover_Type').size()/ data.shape[0] * 100\n"
      ],
      "execution_count": 58,
      "outputs": [
        {
          "output_type": "execute_result",
          "data": {
            "text/plain": [
              "Cover_Type\n",
              "1    36.460521\n",
              "2    48.759922\n",
              "3     6.153746\n",
              "4     0.472796\n",
              "5     1.633873\n",
              "6     2.989095\n",
              "7     3.530048\n",
              "dtype: float64"
            ]
          },
          "metadata": {
            "tags": []
          },
          "execution_count": 58
        },
        {
          "output_type": "display_data",
          "data": {
            "image/png": "[encoded data removed]",
            "text/plain": [
              "<Figure size 576x432 with 1 Axes>"
            ]
          },
          "metadata": {
            "tags": []
          }
        }
      ]
    },
    {
      "cell_type": "markdown",
      "metadata": {
        "id": "qpE3hycLm4zk",
        "colab_type": "text"
      },
      "source": [
        "### 3) **(80%)** Nos blocos seguintes implemente seus classificadores (serão implementados 2 métodos diferentes)."
      ]
    },
    {
      "cell_type": "markdown",
      "metadata": {
        "id": "PJEcPL_Jm4zl",
        "colab_type": "text"
      },
      "source": [
        "#### 3.1) Qual método escolhido?"
      ]
    },
    {
      "cell_type": "markdown",
      "metadata": {
        "id": "KOJO_9dVm4zn",
        "colab_type": "text"
      },
      "source": [
        "*`RandomForest `*"
      ]
    },
    {
      "cell_type": "markdown",
      "metadata": {
        "id": "r4I2-OWTm4zo",
        "colab_type": "text"
      },
      "source": [
        "#### 3.2) **(10%)** Baseline - Implemente seu classificador da forma mais simples possível para esse ser seu baseline"
      ]
    },
    {
      "cell_type": "code",
      "metadata": {
        "id": "4w7I-aQgm4zp",
        "colab_type": "code",
        "colab": {}
      },
      "source": [
        "# Implementação. Use mais blocos se achar que ficará mais organizado."
      ],
      "execution_count": 0,
      "outputs": []
    },
    {
      "cell_type": "code",
      "metadata": {
        "id": "YzH7vwO9g74E",
        "colab_type": "code",
        "outputId": "c760bc6d-dcbf-409c-8e03-911684a56552",
        "colab": {
          "base_uri": "https://localhost:8080/",
          "height": 35
        }
      },
      "source": [
        "# separando os dados em X e Y\n",
        "X=data.loc[:,'Elevation':'Soil_Type40']\n",
        "y=data['Cover_Type']\n",
        "\n",
        "from sklearn.model_selection import train_test_split\n",
        "\n",
        "#Separando os dados em 30% para teste e 70% para treino\n",
        "X_train, X_test, y_train, y_test = train_test_split(X,y, test_size=0.3, random_state=101)\n",
        "\n",
        "# implementando DecisionTree\n",
        "from sklearn.tree import DecisionTreeClassifier\n",
        "\n",
        "classifier_dt = DecisionTreeClassifier(random_state=1986,criterion='gini',max_depth=3)\n",
        "classifier_dt.fit(X_train, y_train)\n",
        "\n",
        "classifier_dt.predict (X_test)\n",
        "\n",
        "from sklearn.model_selection import cross_val_score\n",
        "\n",
        "scores_dt = cross_val_score(classifier_dt, X, y,  scoring='accuracy', cv=5)\n",
        "\n",
        "print(scores_dt.mean())\n"
      ],
      "execution_count": 59,
      "outputs": [
        {
          "output_type": "stream",
          "text": [
            "0.6433083090176746\n"
          ],
          "name": "stdout"
        }
      ]
    },
    {
      "cell_type": "markdown",
      "metadata": {
        "id": "JV5xX7Cvm4zt",
        "colab_type": "text"
      },
      "source": [
        "#### 3.3) **(20%)** Versão 1 - O que podemos fazer para melhorar nosso baseline? Aplique técnicas como redução de dimensionalidade, normalização ou outras. Compare os resultados."
      ]
    },
    {
      "cell_type": "code",
      "metadata": {
        "id": "lrbXWSsXm4zv",
        "colab_type": "code",
        "colab": {}
      },
      "source": [
        "# Implementação. Use mais blocos se achar que ficará mais organizado."
      ],
      "execution_count": 0,
      "outputs": []
    },
    {
      "cell_type": "code",
      "metadata": {
        "id": "MHgL5aSllc7O",
        "colab_type": "code",
        "outputId": "dd1e2e3b-6e23-4b04-8960-94383915da80",
        "colab": {
          "base_uri": "https://localhost:8080/",
          "height": 305
        }
      },
      "source": [
        "# importando blibliotecas de normalização\n",
        "from sklearn.preprocessing import minmax_scale\n",
        "from sklearn import preprocessing\n",
        "\n",
        "#  copiando os dados para nova variavel \n",
        "\n",
        "new_data = data\n",
        "new_data =  data.set_index('Cover_Type') \n",
        "\n",
        "# desprezando algumas features por relevância.\n",
        "new_data.drop(columns=['Soil_Type7','Soil_Type8','Soil_Type9','Soil_Type15','Soil_Type36','Soil_Type37'], inplace=True)\n",
        "\n",
        "df_norm1 = (new_data - new_data.mean()) / (new_data.max() - new_data.min())\n",
        "new_data = df_norm1\n",
        "\n",
        "X=new_data.loc[:,'Elevation':'Soil_Type40']\n",
        "y=data['Cover_Type']\n",
        "\n",
        "X_train, X_test, y_train, y_test = train_test_split(X,y, test_size=0.3, random_state=101)\n",
        "\n",
        "# implementando DecisionTreeClassifier\n",
        "classifier_dt =  DecisionTreeClassifier(random_state=1986,criterion='gini',max_depth=3)\n",
        "classifier_dt.fit(X_train, y_train)\n",
        "\n",
        "classifier_dt.predict (X_test)\n",
        "\n",
        "scores_dt = cross_val_score(classifier_dt, X, y,  scoring='accuracy', cv=3 )\n",
        "\n",
        "print(scores_dt.mean())\n",
        "\n"
      ],
      "execution_count": 73,
      "outputs": [
        {
          "output_type": "stream",
          "text": [
            "Index(['Elevation', 'Aspect', 'Slope', 'Horizontal_Distance_To_Hydrology',\n",
            "       'Vertical_Distance_To_Hydrology', 'Horizontal_Distance_To_Roadways',\n",
            "       'Hillshade_9am', 'Hillshade_Noon', 'Hillshade_3pm',\n",
            "       'Horizontal_Distance_To_Fire_Points', 'Wilderness_Area1',\n",
            "       'Wilderness_Area2', 'Wilderness_Area3', 'Wilderness_Area4',\n",
            "       'Soil_Type1', 'Soil_Type2', 'Soil_Type3', 'Soil_Type4', 'Soil_Type5',\n",
            "       'Soil_Type6', 'Soil_Type10', 'Soil_Type11', 'Soil_Type12',\n",
            "       'Soil_Type13', 'Soil_Type14', 'Soil_Type16', 'Soil_Type17',\n",
            "       'Soil_Type18', 'Soil_Type19', 'Soil_Type20', 'Soil_Type21',\n",
            "       'Soil_Type22', 'Soil_Type23', 'Soil_Type24', 'Soil_Type25',\n",
            "       'Soil_Type26', 'Soil_Type27', 'Soil_Type28', 'Soil_Type29',\n",
            "       'Soil_Type30', 'Soil_Type31', 'Soil_Type32', 'Soil_Type33',\n",
            "       'Soil_Type34', 'Soil_Type35', 'Soil_Type38', 'Soil_Type39',\n",
            "       'Soil_Type40'],\n",
            "      dtype='object')\n",
            "0.6409556622126419\n"
          ],
          "name": "stdout"
        }
      ]
    },
    {
      "cell_type": "markdown",
      "metadata": {
        "id": "b7A_lMBjm4zz",
        "colab_type": "text"
      },
      "source": [
        "\n",
        "\n",
        "#### 3.4) **(10%)** Tunning - Agora que temos um resultado promissor, vamos tentar melhorar o resultado alterando um ou mais hiper-parametro. Compare os resultados."
      ]
    },
    {
      "cell_type": "code",
      "metadata": {
        "id": "mjf0QRBAm4z0",
        "colab_type": "code",
        "colab": {}
      },
      "source": [
        "# Implementação. Use mais blocos se achar que ficará mais organizado."
      ],
      "execution_count": 0,
      "outputs": []
    },
    {
      "cell_type": "code",
      "metadata": {
        "id": "Qkg9lFhCqE9x",
        "colab_type": "code",
        "outputId": "c9170eec-6fb7-4f8e-8267-f02d250e1967",
        "colab": {
          "base_uri": "https://localhost:8080/",
          "height": 258
        }
      },
      "source": [
        "# tuning\n",
        "\n",
        "# alterando hiper-parametro para verificar melhorias dos resultados.  \n",
        "# alterando criterion (entropy), max_depth, splitter\n",
        "# sensivel melhora ao usar o persort como True\n",
        "classifier_dt = DecisionTreeClassifier(random_state=1986,criterion='entropy',max_depth=5, splitter='random',min_samples_leaf=1,min_weight_fraction_leaf=0,presort=True)\n",
        "classifier_dt.fit(X_train, y_train)\n",
        "\n",
        "classifier_dt.predict (X_test)\n",
        "\n",
        "scores_dt = cross_val_score(classifier_dt, X, y,  scoring='accuracy', cv=5)\n",
        "\n",
        "# 0.6433083090176746\n",
        "# 0.6445217708787441 max_depth 3 -> 5 \n",
        "# 0.6628243175229495 splitter para random\n",
        "# 0.6645403016564041\n",
        "\n",
        "print(scores_dt.mean())"
      ],
      "execution_count": 0,
      "outputs": [
        {
          "output_type": "stream",
          "text": [
            "/usr/local/lib/python3.6/dist-packages/sklearn/tree/_classes.py:319: FutureWarning: The parameter 'presort' is deprecated and has no effect. It will be removed in v0.24. You can suppress this warning by not passing any value to the 'presort' parameter.\n",
            "  FutureWarning)\n",
            "/usr/local/lib/python3.6/dist-packages/sklearn/tree/_classes.py:319: FutureWarning: The parameter 'presort' is deprecated and has no effect. It will be removed in v0.24. You can suppress this warning by not passing any value to the 'presort' parameter.\n",
            "  FutureWarning)\n",
            "/usr/local/lib/python3.6/dist-packages/sklearn/tree/_classes.py:319: FutureWarning: The parameter 'presort' is deprecated and has no effect. It will be removed in v0.24. You can suppress this warning by not passing any value to the 'presort' parameter.\n",
            "  FutureWarning)\n",
            "/usr/local/lib/python3.6/dist-packages/sklearn/tree/_classes.py:319: FutureWarning: The parameter 'presort' is deprecated and has no effect. It will be removed in v0.24. You can suppress this warning by not passing any value to the 'presort' parameter.\n",
            "  FutureWarning)\n",
            "/usr/local/lib/python3.6/dist-packages/sklearn/tree/_classes.py:319: FutureWarning: The parameter 'presort' is deprecated and has no effect. It will be removed in v0.24. You can suppress this warning by not passing any value to the 'presort' parameter.\n",
            "  FutureWarning)\n",
            "/usr/local/lib/python3.6/dist-packages/sklearn/tree/_classes.py:319: FutureWarning: The parameter 'presort' is deprecated and has no effect. It will be removed in v0.24. You can suppress this warning by not passing any value to the 'presort' parameter.\n",
            "  FutureWarning)\n"
          ],
          "name": "stderr"
        },
        {
          "output_type": "stream",
          "text": [
            "0.6645403016564041\n"
          ],
          "name": "stdout"
        }
      ]
    },
    {
      "cell_type": "markdown",
      "metadata": {
        "id": "0PswXJGxm4z3",
        "colab_type": "text"
      },
      "source": [
        "#### 3.5) Qual método escolhido?"
      ]
    },
    {
      "cell_type": "markdown",
      "metadata": {
        "id": "R6i7F-Dzm4z4",
        "colab_type": "text"
      },
      "source": [
        "Indique o método escolhido"
      ]
    },
    {
      "cell_type": "markdown",
      "metadata": {
        "id": "NU0NUxVrV3rZ",
        "colab_type": "text"
      },
      "source": [
        "RandomTree"
      ]
    },
    {
      "cell_type": "markdown",
      "metadata": {
        "id": "4V13H01pm4z5",
        "colab_type": "text"
      },
      "source": [
        "#### 3.6) **(10%)** Baseline - Implemente seu classificador da forma mais simples possível para esse ser seu baseline"
      ]
    },
    {
      "cell_type": "code",
      "metadata": {
        "id": "aaaNKA0vm4z6",
        "colab_type": "code",
        "colab": {}
      },
      "source": [
        "# Implementação da Random Forest"
      ],
      "execution_count": 0,
      "outputs": []
    },
    {
      "cell_type": "code",
      "metadata": {
        "id": "RJ8Xh6fRV69t",
        "colab_type": "code",
        "colab": {
          "base_uri": "https://localhost:8080/",
          "height": 35
        },
        "outputId": "2668abc2-b6be-4a3d-cc27-07c0eaf7a2e1"
      },
      "source": [
        "# separando os dados em X e Y\n",
        "X=data.loc[:,'Elevation':'Soil_Type40']\n",
        "y=data['Cover_Type']\n",
        "\n",
        "from sklearn.model_selection import train_test_split\n",
        "\n",
        "#Separando os dados em 30% para teste e 70% para treino\n",
        "X_train, X_test, y_train, y_test = train_test_split(X,y, test_size=0.3, random_state=101)\n",
        "\n",
        "# implementando DecisionTree\n",
        "from sklearn.ensemble import RandomForestClassifier\n",
        "from sklearn.datasets import make_classification\n",
        "\n",
        "X, y = make_classification(n_samples=1000, n_features=4,\n",
        "                           n_informative=2, n_redundant=0,\n",
        "                           random_state=0, shuffle=False)\n",
        "clf = RandomForestClassifier(max_depth=2, random_state=0)\n",
        "\n",
        "clf.fit(X_train, y_train)\n",
        "\n",
        "clf.predict(X_test)\n",
        "\n",
        "from sklearn.model_selection import cross_val_score\n",
        "\n",
        "scores_dt = cross_val_score(clf, X, y,  scoring='accuracy', cv=5)\n",
        "\n",
        "print(scores_dt.mean())"
      ],
      "execution_count": 74,
      "outputs": [
        {
          "output_type": "stream",
          "text": [
            "0.9359999999999999\n"
          ],
          "name": "stdout"
        }
      ]
    },
    {
      "cell_type": "markdown",
      "metadata": {
        "id": "USGrAkaom4z9",
        "colab_type": "text"
      },
      "source": [
        "#### 3.7) **(20%)** Versão 1 - O que podemos fazer para melhorar nosso baseline? Aplique técnicas como redução de dimensionalidade, normalização ou outras. Compare os resultados."
      ]
    },
    {
      "cell_type": "code",
      "metadata": {
        "id": "rqon3zLPm4z-",
        "colab_type": "code",
        "colab": {}
      },
      "source": [
        "# Implementação. Use mais blocos se achar que ficará mais organizado."
      ],
      "execution_count": 0,
      "outputs": []
    },
    {
      "cell_type": "code",
      "metadata": {
        "id": "sxLPjVoGYhGm",
        "colab_type": "code",
        "colab": {
          "base_uri": "https://localhost:8080/",
          "height": 35
        },
        "outputId": "78e1ac6a-b6f8-4473-b208-c9b8a18baa21"
      },
      "source": [
        "# importando blibliotecas de normalização\n",
        "from sklearn.preprocessing import minmax_scale\n",
        "from sklearn import preprocessing\n",
        "\n",
        "#  copiando os dados para nova variavel \n",
        "\n",
        "new_data2 = data\n",
        "new_data2 =  data.set_index('Cover_Type') \n",
        "\n",
        "# desprezando algumas features por relevância.\n",
        "new_data2.drop(columns=['Soil_Type7','Soil_Type8','Soil_Type9','Soil_Type15','Soil_Type36','Soil_Type37'], inplace=True)\n",
        "\n",
        "# normalização dos dados em ponderamento de médias\n",
        "df_norm1 = (new_data2 - new_data2.mean()) / (new_data2.max() - new_data2.min())\n",
        "new_data2 = df_norm1\n",
        "\n",
        "X=new_data2.loc[:,'Elevation':'Soil_Type40']\n",
        "y=data['Cover_Type']\n",
        "\n",
        "# redução de dimensionalidade com StandardScaler \n",
        "from sklearn.preprocessing import StandardScaler\n",
        "X = StandardScaler().fit_transform(X)\n",
        "X = pd.DataFrame(X)\n",
        "\n",
        "X_train, X_test, y_train, y_test = train_test_split(X,y, test_size=0.3, random_state=101)\n",
        "\n",
        "#  processamento e redução de escala de variancia.\n",
        "min_max_scaler = preprocessing.MinMaxScaler()\n",
        "X_train_minmax = min_max_scaler.fit_transform(X_train)\n",
        "\n",
        "X, y = make_classification(n_samples=1000, n_features=4,\n",
        "                           n_informative=2, n_redundant=0,\n",
        "                           random_state=0, shuffle=False)\n",
        "clf = RandomForestClassifier(max_depth=2, random_state=0)\n",
        "\n",
        "clf.fit(X_train_minmax, y_train)\n",
        "\n",
        "clf.predict(X_test)\n",
        "\n",
        "scores_dt = cross_val_score(clf, X, y,  scoring='accuracy', cv=5)\n",
        "\n",
        "print(scores_dt.mean())"
      ],
      "execution_count": 110,
      "outputs": [
        {
          "output_type": "stream",
          "text": [
            "0.9359999999999999\n"
          ],
          "name": "stdout"
        }
      ]
    },
    {
      "cell_type": "markdown",
      "metadata": {
        "id": "3lEe7Ps-m40H",
        "colab_type": "text"
      },
      "source": [
        "#### 3.8) **(10%)** Tunning - Agora que temos um resultado promissor, vamos tentar melhorar o resultado alterando um ou mais hiper-parametro. Compare os resultados."
      ]
    },
    {
      "cell_type": "code",
      "metadata": {
        "id": "iWWluYgKm40K",
        "colab_type": "code",
        "colab": {}
      },
      "source": [
        "# Implementação. Use mais blocos se achar que ficará mais organizado."
      ],
      "execution_count": 0,
      "outputs": []
    },
    {
      "cell_type": "code",
      "metadata": {
        "id": "ChdKb4Avbwb-",
        "colab_type": "code",
        "colab": {
          "base_uri": "https://localhost:8080/",
          "height": 35
        },
        "outputId": "750a8f2f-4676-4991-b9ab-c24b660db456"
      },
      "source": [
        "X, y = make_classification(n_samples=1000, n_features=4,\n",
        "                           n_informative=2, n_redundant=0,\n",
        "                           random_state=0, shuffle=False)\n",
        "clf = RandomForestClassifier(max_depth=7, random_state=0,n_estimators=100,criterion= 'gini',min_samples_split=2  ) \n",
        "\n",
        "clf.fit(X_train_minmax, y_train)\n",
        "\n",
        "clf.predict(X_test)\n",
        "\n",
        "scores_dt = cross_val_score(clf, X, y,  scoring='accuracy', cv=5)\n",
        "\n",
        "print(scores_dt.mean())"
      ],
      "execution_count": 109,
      "outputs": [
        {
          "output_type": "stream",
          "text": [
            "0.9480000000000001\n"
          ],
          "name": "stdout"
        }
      ]
    },
    {
      "cell_type": "markdown",
      "metadata": {
        "id": "b6EFz3Mjm40N",
        "colab_type": "text"
      },
      "source": [
        "### 5) **(10%)** Conclusões"
      ]
    },
    {
      "cell_type": "markdown",
      "metadata": {
        "id": "vXbUhuc1m40O",
        "colab_type": "text"
      },
      "source": [
        "*Compare seus resultados. Imaginando que sua solução fosse para produção, qual deles você escolheria? Por que? Quais os riscos você enxerga? O que recomendaria de próximos passos para melhorar os resultados?*"
      ]
    },
    {
      "cell_type": "markdown",
      "metadata": {
        "id": "GbQYRufpm40P",
        "colab_type": "text"
      },
      "source": [
        "Os resultados obtidos foram completamente diferentes. O classificador DeciscionTree teve uma acuracia de 0.66 contra  0.94 da RandomForest. Baseado somente na acuracia e escolheria levar para a produção o Classificador RandomForest. Acredito que devido as varias classes da base, e das 54 features precisarem de algo mais parrudo do que decision tree para ter um melhor desempenho.\n",
        "\n",
        "Os Riscos que enxego são do modelo de RandomForest apesar de ter melhor acuracia, isso possa corroborar por esconder coisas como precisão no treino.  Sendo assim precisariamos implementar alguns passos extras de comparativos e tratativa Feature Engineer para garantir que  isso não ocorra."
      ]
    }
  ]
}